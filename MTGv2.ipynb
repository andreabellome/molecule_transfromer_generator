{
  "cells": [
    {
      "cell_type": "code",
      "execution_count": 1,
      "metadata": {
        "id": "l7ih6koQ9aJK"
      },
      "outputs": [],
      "source": [
        "# Import packages\n",
        "import numpy as np\n",
        "import tensorflow as tf\n",
        "from keras._tf_keras.keras import layers\n",
        "from keras._tf_keras.keras.preprocessing.text import Tokenizer\n",
        "from keras._tf_keras.keras.preprocessing.sequence import pad_sequences"
      ]
    },
    {
      "cell_type": "code",
      "execution_count": 2,
      "metadata": {
        "id": "1O5GViEL9ezo"
      },
      "outputs": [],
      "source": [
        "# Esempio di stringhe SMILES (in un'applicazione reale, useresti un dataset più ampio)\n",
        "smiles_corpus = [\n",
        "    \"CC(C)CC1=CC=CC=C1\", \"CC(C)C1=CC=C(C=C1)C(O)=O\", \"CC(C)C1=CC=CC=C1O\", \"CCC1=CC=C(C=C1)C=O\",\n",
        "    \"CCOC(=O)C1=CC=CC=C1\", \"CC(C)C1=CC=C(C=C1)O\", \"COC1=CC=C(C=C1)C(O)=O\", \"CCCC1=CC=C(C=C1)O\",\n",
        "    \"CC(C)CC1=CC=CC=C1O\", \"CC(C)COC1=CC=CC=C1\", \"CCC1=CC=CC=C1OC\", \"CCOC1=CC=CC=C1C\",\n",
        "    \"CCCC1=CC=CC=C1C\", \"CC(C)C1=CC=C(C=C1)C=O\", \"COC1=CC=C(C=C1)C=O\", \"CCC1=CC=C(C=C1)C=O\",\n",
        "    \"CC(C)C1=CC=C(C=C1)C(O)=O\", \"CCOC1=CC=CC=C1O\", \"CCCC1=CC=C(C=C1)O\", \"CC(C)C1=CC=CC=C1C\",\n",
        "    \"CCCC1=CC=CC=C1C=O\", \"CCOC1=CC=CC=C1C=O\", \"CC(C)COC1=CC=CC=C1O\", \"COC1=CC=C(C=C1)C(O)=O\",\n",
        "    \"CC(C)C1=CC=CC=C1OC\", \"CCCC1=CC=CC=C1OC\", \"COC1=CC=CC=C1OC\", \"CCC1=CC=C(C=C1)C(O)=O\",\n",
        "    \"CCCC1=CC=CC=C1OC=O\", \"CCOC1=CC=CC=C1OC\", \"CC(C)C1=CC=CC=C1CO\", \"CCCC1=CC=C(C=C1)C=O\",\n",
        "    \"CCOC1=CC=CC=C1CO\", \"COC1=CC=CC=C1CO\", \"CC(C)CC1=CC=C(C=C1)O\", \"CC(C)CC1=CC=CC=C1CO\",\n",
        "    \"CCCC1=CC=CC=C1CO\", \"CCOC1=CC=CC=C1COC\", \"COC1=CC=C(C=C1)CO\", \"CCCC1=CC=CC=C1COC\",\n",
        "    \"CC(C)C1=CC=CC=C1COC\", \"CCCC1=CC=C(C=C1)COC\", \"COC1=CC=C(C=C1)COC\", \"CCOC1=CC=CC=C1COC\",\n",
        "    \"CC(C)C1=CC=C(C=C1)C=O\", \"CCCC1=CC=CC=C1COC=O\", \"CC(C)CC1=CC=CC=C1COC=O\", \"CCOC1=CC=CC=C1COC=O\",\n",
        "    \"COC1=CC=CC=C1COC=O\", \"CCCC1=CC=CC=C1COC=O\", \"CCOC1=CC=CC=C1C(O)=O\", \"CC(C)COC1=CC=CC=C1C(O)=O\",\n",
        "    \"CC(C)C1=CC=C(C=C1)C=O\", \"CCCC1=CC=C(C=C1)COC=O\", \"CCOC1=CC=CC=C1C(O)=O\", \"COC1=CC=C(C=C1)COC=O\",\n",
        "    \"CCCC1=CC=CC=C1C(O)=O\", \"CC(C)C1=CC=CC=C1COC=O\", \"COC1=CC=CC=C1C(O)=O\", \"CCCC1=CC=CC=C1C(O)=O\",\n",
        "    \"CCOC1=CC=CC=C1C=O\", \"CC(C)C1=CC=CC=C1COC\", \"COC1=CC=C(C=C1)COC=O\", \"CCCC1=CC=CC=C1COC=O\",\n",
        "    \"CC(C)C1=CC=C(C=C1)COC=O\", \"CCCC1=CC=CC=C1COC=O\", \"COC1=CC=C(C=C1)COC\", \"CCOC1=CC=CC=C1COC=O\",\n",
        "    \"CC(C)COC1=CC=CC=C1COC=O\", \"CCCC1=CC=CC=C1COC=O\", \"CC(C)COC1=CC=CC=C1COC\", \"COC1=CC=CC=C1COC\",\n",
        "    \"CCOC1=CC=CC=C1COC=O\", \"CC(C)C1=CC=CC=C1COC=O\", \"CCCC1=CC=CC=C1COC\", \"CC(C)COC1=CC=CC=C1COC\",\n",
        "    \"COC1=CC=CC=C1COC=O\", \"CCCC1=CC=CC=C1COC\", \"CCOC1=CC=CC=C1COC=O\", \"COC1=CC=CC=C1COC\",\n",
        "    \"CC(C)COC1=CC=CC=C1COC\", \"CCCC1=CC=CC=C1COC\", \"COC1=CC=CC=C1COC=O\", \"CCOC1=CC=CC=C1COC=O\",\n",
        "    \"CC(C)COC1=CC=CC=C1COC\", \"CCCC1=CC=CC=C1COC\", \"COC1=CC=CC=C1COC\", \"CCOC1=CC=CC=C1COC\",\n",
        "    \"CCCC1=CC=CC=C1COC\", \"COC1=CC=CC=C1COC=O\", \"CCOC1=CC=CC=C1COC=O\", \"CCCC1=CC=CC=C1COC\",\n",
        "    \"CCOC1=CC=CC=C1COC\", \"COC1=CC=CC=C1COC\", \"CCCC1=CC=CC=C1COC\", \"COC1=CC=CC=C1COC=O\",\n",
        "    \"CCOC1=CC=CC=C1COC=O\", \"CCCC1=CC=CC=C1COC\", \"COC1=CC=CC=C1COC\", \"CCOC1=CC=CC=C1COC\",\n",
        "    \"CCCC1=CC=CC=C1COC\", \"COC1=CC=CC=C1COC\", \"CCOC1=CC=CC=C1COC\", \"CCCC1=CC=CC=C1COC\",\n",
        "    \"COC1=CC=CC=C1COC=O\", \"CCOC1=CC=CC=C1COC=O\", \"CCCC1=CC=CC=C1COC\", \"COC1=CC=CC=C1COC=O\",\n",
        "    \"CCOC1=CC=CC=C1COC\", \"CCCC1=CC=CC=C1COC\", \"COC1=CC=CC=C1COC\", \"CCOC1=CC=CC=C1COC\",\n",
        "    \"CCCC1=CC=CC=C1COC\", \"COC1=CC=CC=C1COC\", \"CCOC1=CC=CC=C1COC\", \"CCCC1=CC=CC=C1COC\",\n",
        "    \"COC1=CC=CC=C1COC=O\", \"CCOC1=CC=CC=C1COC\", \"CCCC1=CC=CC=C1COC\", \"COC1=CC=CC=C1COC\",\n",
        "    \"CCOC1=CC=CC=C1COC\", \"CCCC1=CC=CC=C1COC\", \"COC1=CC=CC=C1COC\", \"CCOC1=CC=CC=C1COC\",\n",
        "    \"CCCC1=CC=CC=C1COC\", \"COC1=CC=CC=C1COC\", \"CCOC1=CC=CC=C1COC\", \"CCCC1=CC=CC=C1COC\",\n",
        "    \"COC1=CC=CC=C1COC\", \"CCOC1=CC=CC=C1COC\", \"CCCC1=CC=CC=C1COC\", \"COC1=CC=CC=C1COC\",\n",
        "    \"CCOC1=CC=CC=C1COC\", \"CCCC1=CC=CC=C1COC\", \"COC1=CC=CC=C1COC\", \"CCOC1=CC=CC=C1COC\",\n",
        "    \"CCCC1=CC=CC=C1COC\", \"COC1=CC=CC=C1COC\", \"CCOC1=CC=CC=C1COC\", \"CCCC1=CC=CC=C1COC\",\n",
        "    \"COC1=CC=CC=C1COC\", \"CCOC1=CC=CC=C1COC\", \"CCCC1=CC=CC=C1COC\", \"COC1=CC=CC=C1COC\",\n",
        "    \"CCOC1=CC=CC=C1COC\", \"CCCC1=CC=CC=C1COC\", \"COC1=CC=CC=C1COC\", \"CCOC1=CC=CC=C1COC\",\n",
        "    \"CCCC1=CC=CC=C1COC\", \"COC1=CC=CC=C1COC\", \"CCOC1=CC=CC=C1COC\", \"CCCC1=CC=CC=C1COC\"\n",
        "]\n"
      ]
    },
    {
      "cell_type": "code",
      "execution_count": 3,
      "metadata": {
        "colab": {
          "base_uri": "https://localhost:8080/"
        },
        "id": "SYenL9K_9hvw",
        "outputId": "a0f83667-52a5-4d38-9fb3-da9eec8acb6a"
      },
      "outputs": [
        {
          "name": "stdout",
          "output_type": "stream",
          "text": [
            "{'c': 1, '=': 2, '1': 3, 'o': 4, '(': 5, ')': 6}\n",
            "Forma di X: (2570, 23)\n",
            "Forma di y: (2570, 7)\n",
            "Numero totale di parole: 7\n"
          ]
        }
      ],
      "source": [
        "# Tokenizzazione del testo\n",
        "tokenizer = Tokenizer(char_level=True) # ci interessa scendere nel dettaglio delle molecole\n",
        "tokenizer.fit_on_texts(smiles_corpus) # estrae i token dal corpus\n",
        "total_words = len(tokenizer.word_index) + 1 # la lunghezza del vocabolario\n",
        "print(tokenizer.word_index)\n",
        "\n",
        "# Creazione delle sequenze di input\n",
        "input_sequences = [] #lista vuota delle sequenze di input\n",
        "for line in smiles_corpus: #itero sulle line del corpus i.e. sulle SMILE\n",
        "    #print(line)\n",
        "    token_list = tokenizer.texts_to_sequences([line])[0]\n",
        "    #print(token_list)\n",
        "    for i in range(1, len(token_list)):\n",
        "        n_gram_sequence = token_list[:i+1]\n",
        "        #print(n_gram_sequence)\n",
        "        input_sequences.append(n_gram_sequence)\n",
        "\n",
        "# Padding delle sequenze per avere tutte le stesse lunghezze\n",
        "max_sequence_len = max([len(x) for x in input_sequences])\n",
        "input_sequences = np.array(pad_sequences(input_sequences, maxlen=max_sequence_len, padding='pre'))\n",
        "\n",
        "# Creazione dei dati di input e output\n",
        "X = input_sequences[:, :-1]\n",
        "y = tf.keras.utils.to_categorical(input_sequences[:, -1], num_classes=total_words)\n",
        "\n",
        "print(\"Forma di X:\", X.shape)\n",
        "print(\"Forma di y:\", y.shape)\n",
        "print(\"Numero totale di parole:\", total_words)"
      ]
    },
    {
      "cell_type": "markdown",
      "metadata": {
        "id": "1c2U2K3o9k3F"
      },
      "source": [
        "# Transformer"
      ]
    },
    {
      "cell_type": "code",
      "execution_count": 4,
      "metadata": {
        "id": "x5jvF_c29kB6"
      },
      "outputs": [],
      "source": [
        "def create_transformer_model(vocab_size, embed_dim, num_heads, ff_dim, maxlen):\n",
        "    inputs = layers.Input(shape=(maxlen - 1,))\n",
        "\n",
        "    # Strato di embedding\n",
        "    embedding_layer = layers.Embedding(vocab_size, embed_dim, input_length=maxlen - 1)(inputs)\n",
        "\n",
        "    # Blocco Trasformatore\n",
        "    attention_output = layers.MultiHeadAttention(num_heads=num_heads, key_dim=embed_dim)(embedding_layer, embedding_layer)\n",
        "    attention_output = layers.LayerNormalization(epsilon=1e-6)(attention_output + embedding_layer)\n",
        "\n",
        "    ff_output = layers.Dense(ff_dim, activation=\"relu\")(attention_output)\n",
        "    ff_output = layers.Dense(embed_dim)(ff_output)\n",
        "    x = layers.LayerNormalization(epsilon=1e-6)(ff_output + attention_output)\n",
        "\n",
        "    # Pooling e classificatore finale\n",
        "    x = layers.GlobalAveragePooling1D()(x)\n",
        "    x = layers.Dense(20, activation=\"relu\")(x)\n",
        "    outputs = layers.Dense(vocab_size, activation=\"softmax\")(x)\n",
        "\n",
        "    model = tf.keras.Model(inputs=inputs, outputs=outputs)\n",
        "\n",
        "    model.compile(optimizer=\"adam\", loss=\"categorical_crossentropy\", metrics=[\"accuracy\"])\n",
        "    return model"
      ]
    },
    {
      "cell_type": "markdown",
      "metadata": {
        "id": "bfto4iUz9qVB"
      },
      "source": [
        "Compile the TRANSFORMER"
      ]
    },
    {
      "cell_type": "code",
      "execution_count": 5,
      "metadata": {
        "colab": {
          "base_uri": "https://localhost:8080/",
          "height": 625
        },
        "id": "SQnE8TRC9p7A",
        "outputId": "6c2cf7e8-b2c5-423c-c394-e82bbdf71fda"
      },
      "outputs": [
        {
          "name": "stderr",
          "output_type": "stream",
          "text": [
            "c:\\Users\\AndreaBellome\\Documents\\GitHub\\mtg\\env\\lib\\site-packages\\keras\\src\\layers\\core\\embedding.py:90: UserWarning: Argument `input_length` is deprecated. Just remove it.\n",
            "  warnings.warn(\n"
          ]
        },
        {
          "data": {
            "text/html": [
              "<pre style=\"white-space:pre;overflow-x:auto;line-height:normal;font-family:Menlo,'DejaVu Sans Mono',consolas,'Courier New',monospace\"><span style=\"font-weight: bold\">Model: \"functional\"</span>\n",
              "</pre>\n"
            ],
            "text/plain": [
              "\u001b[1mModel: \"functional\"\u001b[0m\n"
            ]
          },
          "metadata": {},
          "output_type": "display_data"
        },
        {
          "data": {
            "text/html": [
              "<pre style=\"white-space:pre;overflow-x:auto;line-height:normal;font-family:Menlo,'DejaVu Sans Mono',consolas,'Courier New',monospace\">┏━━━━━━━━━━━━━━━━━━━━━┳━━━━━━━━━━━━━━━━━━━┳━━━━━━━━━━━━┳━━━━━━━━━━━━━━━━━━━┓\n",
              "┃<span style=\"font-weight: bold\"> Layer (type)        </span>┃<span style=\"font-weight: bold\"> Output Shape      </span>┃<span style=\"font-weight: bold\">    Param # </span>┃<span style=\"font-weight: bold\"> Connected to      </span>┃\n",
              "┡━━━━━━━━━━━━━━━━━━━━━╇━━━━━━━━━━━━━━━━━━━╇━━━━━━━━━━━━╇━━━━━━━━━━━━━━━━━━━┩\n",
              "│ input_layer         │ (<span style=\"color: #00d7ff; text-decoration-color: #00d7ff\">None</span>, <span style=\"color: #00af00; text-decoration-color: #00af00\">23</span>)        │          <span style=\"color: #00af00; text-decoration-color: #00af00\">0</span> │ -                 │\n",
              "│ (<span style=\"color: #0087ff; text-decoration-color: #0087ff\">InputLayer</span>)        │                   │            │                   │\n",
              "├─────────────────────┼───────────────────┼────────────┼───────────────────┤\n",
              "│ embedding           │ (<span style=\"color: #00d7ff; text-decoration-color: #00d7ff\">None</span>, <span style=\"color: #00af00; text-decoration-color: #00af00\">23</span>, <span style=\"color: #00af00; text-decoration-color: #00af00\">64</span>)    │        <span style=\"color: #00af00; text-decoration-color: #00af00\">448</span> │ input_layer[<span style=\"color: #00af00; text-decoration-color: #00af00\">0</span>][<span style=\"color: #00af00; text-decoration-color: #00af00\">0</span>] │\n",
              "│ (<span style=\"color: #0087ff; text-decoration-color: #0087ff\">Embedding</span>)         │                   │            │                   │\n",
              "├─────────────────────┼───────────────────┼────────────┼───────────────────┤\n",
              "│ multi_head_attenti… │ (<span style=\"color: #00d7ff; text-decoration-color: #00d7ff\">None</span>, <span style=\"color: #00af00; text-decoration-color: #00af00\">23</span>, <span style=\"color: #00af00; text-decoration-color: #00af00\">64</span>)    │     <span style=\"color: #00af00; text-decoration-color: #00af00\">33,216</span> │ embedding[<span style=\"color: #00af00; text-decoration-color: #00af00\">0</span>][<span style=\"color: #00af00; text-decoration-color: #00af00\">0</span>],  │\n",
              "│ (<span style=\"color: #0087ff; text-decoration-color: #0087ff\">MultiHeadAttentio…</span> │                   │            │ embedding[<span style=\"color: #00af00; text-decoration-color: #00af00\">0</span>][<span style=\"color: #00af00; text-decoration-color: #00af00\">0</span>]   │\n",
              "├─────────────────────┼───────────────────┼────────────┼───────────────────┤\n",
              "│ add (<span style=\"color: #0087ff; text-decoration-color: #0087ff\">Add</span>)           │ (<span style=\"color: #00d7ff; text-decoration-color: #00d7ff\">None</span>, <span style=\"color: #00af00; text-decoration-color: #00af00\">23</span>, <span style=\"color: #00af00; text-decoration-color: #00af00\">64</span>)    │          <span style=\"color: #00af00; text-decoration-color: #00af00\">0</span> │ multi_head_atten… │\n",
              "│                     │                   │            │ embedding[<span style=\"color: #00af00; text-decoration-color: #00af00\">0</span>][<span style=\"color: #00af00; text-decoration-color: #00af00\">0</span>]   │\n",
              "├─────────────────────┼───────────────────┼────────────┼───────────────────┤\n",
              "│ layer_normalization │ (<span style=\"color: #00d7ff; text-decoration-color: #00d7ff\">None</span>, <span style=\"color: #00af00; text-decoration-color: #00af00\">23</span>, <span style=\"color: #00af00; text-decoration-color: #00af00\">64</span>)    │        <span style=\"color: #00af00; text-decoration-color: #00af00\">128</span> │ add[<span style=\"color: #00af00; text-decoration-color: #00af00\">0</span>][<span style=\"color: #00af00; text-decoration-color: #00af00\">0</span>]         │\n",
              "│ (<span style=\"color: #0087ff; text-decoration-color: #0087ff\">LayerNormalizatio…</span> │                   │            │                   │\n",
              "├─────────────────────┼───────────────────┼────────────┼───────────────────┤\n",
              "│ dense (<span style=\"color: #0087ff; text-decoration-color: #0087ff\">Dense</span>)       │ (<span style=\"color: #00d7ff; text-decoration-color: #00d7ff\">None</span>, <span style=\"color: #00af00; text-decoration-color: #00af00\">23</span>, <span style=\"color: #00af00; text-decoration-color: #00af00\">64</span>)    │      <span style=\"color: #00af00; text-decoration-color: #00af00\">4,160</span> │ layer_normalizat… │\n",
              "├─────────────────────┼───────────────────┼────────────┼───────────────────┤\n",
              "│ dense_1 (<span style=\"color: #0087ff; text-decoration-color: #0087ff\">Dense</span>)     │ (<span style=\"color: #00d7ff; text-decoration-color: #00d7ff\">None</span>, <span style=\"color: #00af00; text-decoration-color: #00af00\">23</span>, <span style=\"color: #00af00; text-decoration-color: #00af00\">64</span>)    │      <span style=\"color: #00af00; text-decoration-color: #00af00\">4,160</span> │ dense[<span style=\"color: #00af00; text-decoration-color: #00af00\">0</span>][<span style=\"color: #00af00; text-decoration-color: #00af00\">0</span>]       │\n",
              "├─────────────────────┼───────────────────┼────────────┼───────────────────┤\n",
              "│ add_1 (<span style=\"color: #0087ff; text-decoration-color: #0087ff\">Add</span>)         │ (<span style=\"color: #00d7ff; text-decoration-color: #00d7ff\">None</span>, <span style=\"color: #00af00; text-decoration-color: #00af00\">23</span>, <span style=\"color: #00af00; text-decoration-color: #00af00\">64</span>)    │          <span style=\"color: #00af00; text-decoration-color: #00af00\">0</span> │ dense_1[<span style=\"color: #00af00; text-decoration-color: #00af00\">0</span>][<span style=\"color: #00af00; text-decoration-color: #00af00\">0</span>],    │\n",
              "│                     │                   │            │ layer_normalizat… │\n",
              "├─────────────────────┼───────────────────┼────────────┼───────────────────┤\n",
              "│ layer_normalizatio… │ (<span style=\"color: #00d7ff; text-decoration-color: #00d7ff\">None</span>, <span style=\"color: #00af00; text-decoration-color: #00af00\">23</span>, <span style=\"color: #00af00; text-decoration-color: #00af00\">64</span>)    │        <span style=\"color: #00af00; text-decoration-color: #00af00\">128</span> │ add_1[<span style=\"color: #00af00; text-decoration-color: #00af00\">0</span>][<span style=\"color: #00af00; text-decoration-color: #00af00\">0</span>]       │\n",
              "│ (<span style=\"color: #0087ff; text-decoration-color: #0087ff\">LayerNormalizatio…</span> │                   │            │                   │\n",
              "├─────────────────────┼───────────────────┼────────────┼───────────────────┤\n",
              "│ global_average_poo… │ (<span style=\"color: #00d7ff; text-decoration-color: #00d7ff\">None</span>, <span style=\"color: #00af00; text-decoration-color: #00af00\">64</span>)        │          <span style=\"color: #00af00; text-decoration-color: #00af00\">0</span> │ layer_normalizat… │\n",
              "│ (<span style=\"color: #0087ff; text-decoration-color: #0087ff\">GlobalAveragePool…</span> │                   │            │                   │\n",
              "├─────────────────────┼───────────────────┼────────────┼───────────────────┤\n",
              "│ dense_2 (<span style=\"color: #0087ff; text-decoration-color: #0087ff\">Dense</span>)     │ (<span style=\"color: #00d7ff; text-decoration-color: #00d7ff\">None</span>, <span style=\"color: #00af00; text-decoration-color: #00af00\">20</span>)        │      <span style=\"color: #00af00; text-decoration-color: #00af00\">1,300</span> │ global_average_p… │\n",
              "├─────────────────────┼───────────────────┼────────────┼───────────────────┤\n",
              "│ dense_3 (<span style=\"color: #0087ff; text-decoration-color: #0087ff\">Dense</span>)     │ (<span style=\"color: #00d7ff; text-decoration-color: #00d7ff\">None</span>, <span style=\"color: #00af00; text-decoration-color: #00af00\">7</span>)         │        <span style=\"color: #00af00; text-decoration-color: #00af00\">147</span> │ dense_2[<span style=\"color: #00af00; text-decoration-color: #00af00\">0</span>][<span style=\"color: #00af00; text-decoration-color: #00af00\">0</span>]     │\n",
              "└─────────────────────┴───────────────────┴────────────┴───────────────────┘\n",
              "</pre>\n"
            ],
            "text/plain": [
              "┏━━━━━━━━━━━━━━━━━━━━━┳━━━━━━━━━━━━━━━━━━━┳━━━━━━━━━━━━┳━━━━━━━━━━━━━━━━━━━┓\n",
              "┃\u001b[1m \u001b[0m\u001b[1mLayer (type)       \u001b[0m\u001b[1m \u001b[0m┃\u001b[1m \u001b[0m\u001b[1mOutput Shape     \u001b[0m\u001b[1m \u001b[0m┃\u001b[1m \u001b[0m\u001b[1m   Param #\u001b[0m\u001b[1m \u001b[0m┃\u001b[1m \u001b[0m\u001b[1mConnected to     \u001b[0m\u001b[1m \u001b[0m┃\n",
              "┡━━━━━━━━━━━━━━━━━━━━━╇━━━━━━━━━━━━━━━━━━━╇━━━━━━━━━━━━╇━━━━━━━━━━━━━━━━━━━┩\n",
              "│ input_layer         │ (\u001b[38;5;45mNone\u001b[0m, \u001b[38;5;34m23\u001b[0m)        │          \u001b[38;5;34m0\u001b[0m │ -                 │\n",
              "│ (\u001b[38;5;33mInputLayer\u001b[0m)        │                   │            │                   │\n",
              "├─────────────────────┼───────────────────┼────────────┼───────────────────┤\n",
              "│ embedding           │ (\u001b[38;5;45mNone\u001b[0m, \u001b[38;5;34m23\u001b[0m, \u001b[38;5;34m64\u001b[0m)    │        \u001b[38;5;34m448\u001b[0m │ input_layer[\u001b[38;5;34m0\u001b[0m][\u001b[38;5;34m0\u001b[0m] │\n",
              "│ (\u001b[38;5;33mEmbedding\u001b[0m)         │                   │            │                   │\n",
              "├─────────────────────┼───────────────────┼────────────┼───────────────────┤\n",
              "│ multi_head_attenti… │ (\u001b[38;5;45mNone\u001b[0m, \u001b[38;5;34m23\u001b[0m, \u001b[38;5;34m64\u001b[0m)    │     \u001b[38;5;34m33,216\u001b[0m │ embedding[\u001b[38;5;34m0\u001b[0m][\u001b[38;5;34m0\u001b[0m],  │\n",
              "│ (\u001b[38;5;33mMultiHeadAttentio…\u001b[0m │                   │            │ embedding[\u001b[38;5;34m0\u001b[0m][\u001b[38;5;34m0\u001b[0m]   │\n",
              "├─────────────────────┼───────────────────┼────────────┼───────────────────┤\n",
              "│ add (\u001b[38;5;33mAdd\u001b[0m)           │ (\u001b[38;5;45mNone\u001b[0m, \u001b[38;5;34m23\u001b[0m, \u001b[38;5;34m64\u001b[0m)    │          \u001b[38;5;34m0\u001b[0m │ multi_head_atten… │\n",
              "│                     │                   │            │ embedding[\u001b[38;5;34m0\u001b[0m][\u001b[38;5;34m0\u001b[0m]   │\n",
              "├─────────────────────┼───────────────────┼────────────┼───────────────────┤\n",
              "│ layer_normalization │ (\u001b[38;5;45mNone\u001b[0m, \u001b[38;5;34m23\u001b[0m, \u001b[38;5;34m64\u001b[0m)    │        \u001b[38;5;34m128\u001b[0m │ add[\u001b[38;5;34m0\u001b[0m][\u001b[38;5;34m0\u001b[0m]         │\n",
              "│ (\u001b[38;5;33mLayerNormalizatio…\u001b[0m │                   │            │                   │\n",
              "├─────────────────────┼───────────────────┼────────────┼───────────────────┤\n",
              "│ dense (\u001b[38;5;33mDense\u001b[0m)       │ (\u001b[38;5;45mNone\u001b[0m, \u001b[38;5;34m23\u001b[0m, \u001b[38;5;34m64\u001b[0m)    │      \u001b[38;5;34m4,160\u001b[0m │ layer_normalizat… │\n",
              "├─────────────────────┼───────────────────┼────────────┼───────────────────┤\n",
              "│ dense_1 (\u001b[38;5;33mDense\u001b[0m)     │ (\u001b[38;5;45mNone\u001b[0m, \u001b[38;5;34m23\u001b[0m, \u001b[38;5;34m64\u001b[0m)    │      \u001b[38;5;34m4,160\u001b[0m │ dense[\u001b[38;5;34m0\u001b[0m][\u001b[38;5;34m0\u001b[0m]       │\n",
              "├─────────────────────┼───────────────────┼────────────┼───────────────────┤\n",
              "│ add_1 (\u001b[38;5;33mAdd\u001b[0m)         │ (\u001b[38;5;45mNone\u001b[0m, \u001b[38;5;34m23\u001b[0m, \u001b[38;5;34m64\u001b[0m)    │          \u001b[38;5;34m0\u001b[0m │ dense_1[\u001b[38;5;34m0\u001b[0m][\u001b[38;5;34m0\u001b[0m],    │\n",
              "│                     │                   │            │ layer_normalizat… │\n",
              "├─────────────────────┼───────────────────┼────────────┼───────────────────┤\n",
              "│ layer_normalizatio… │ (\u001b[38;5;45mNone\u001b[0m, \u001b[38;5;34m23\u001b[0m, \u001b[38;5;34m64\u001b[0m)    │        \u001b[38;5;34m128\u001b[0m │ add_1[\u001b[38;5;34m0\u001b[0m][\u001b[38;5;34m0\u001b[0m]       │\n",
              "│ (\u001b[38;5;33mLayerNormalizatio…\u001b[0m │                   │            │                   │\n",
              "├─────────────────────┼───────────────────┼────────────┼───────────────────┤\n",
              "│ global_average_poo… │ (\u001b[38;5;45mNone\u001b[0m, \u001b[38;5;34m64\u001b[0m)        │          \u001b[38;5;34m0\u001b[0m │ layer_normalizat… │\n",
              "│ (\u001b[38;5;33mGlobalAveragePool…\u001b[0m │                   │            │                   │\n",
              "├─────────────────────┼───────────────────┼────────────┼───────────────────┤\n",
              "│ dense_2 (\u001b[38;5;33mDense\u001b[0m)     │ (\u001b[38;5;45mNone\u001b[0m, \u001b[38;5;34m20\u001b[0m)        │      \u001b[38;5;34m1,300\u001b[0m │ global_average_p… │\n",
              "├─────────────────────┼───────────────────┼────────────┼───────────────────┤\n",
              "│ dense_3 (\u001b[38;5;33mDense\u001b[0m)     │ (\u001b[38;5;45mNone\u001b[0m, \u001b[38;5;34m7\u001b[0m)         │        \u001b[38;5;34m147\u001b[0m │ dense_2[\u001b[38;5;34m0\u001b[0m][\u001b[38;5;34m0\u001b[0m]     │\n",
              "└─────────────────────┴───────────────────┴────────────┴───────────────────┘\n"
            ]
          },
          "metadata": {},
          "output_type": "display_data"
        },
        {
          "data": {
            "text/html": [
              "<pre style=\"white-space:pre;overflow-x:auto;line-height:normal;font-family:Menlo,'DejaVu Sans Mono',consolas,'Courier New',monospace\"><span style=\"font-weight: bold\"> Total params: </span><span style=\"color: #00af00; text-decoration-color: #00af00\">43,687</span> (170.65 KB)\n",
              "</pre>\n"
            ],
            "text/plain": [
              "\u001b[1m Total params: \u001b[0m\u001b[38;5;34m43,687\u001b[0m (170.65 KB)\n"
            ]
          },
          "metadata": {},
          "output_type": "display_data"
        },
        {
          "data": {
            "text/html": [
              "<pre style=\"white-space:pre;overflow-x:auto;line-height:normal;font-family:Menlo,'DejaVu Sans Mono',consolas,'Courier New',monospace\"><span style=\"font-weight: bold\"> Trainable params: </span><span style=\"color: #00af00; text-decoration-color: #00af00\">43,687</span> (170.65 KB)\n",
              "</pre>\n"
            ],
            "text/plain": [
              "\u001b[1m Trainable params: \u001b[0m\u001b[38;5;34m43,687\u001b[0m (170.65 KB)\n"
            ]
          },
          "metadata": {},
          "output_type": "display_data"
        },
        {
          "data": {
            "text/html": [
              "<pre style=\"white-space:pre;overflow-x:auto;line-height:normal;font-family:Menlo,'DejaVu Sans Mono',consolas,'Courier New',monospace\"><span style=\"font-weight: bold\"> Non-trainable params: </span><span style=\"color: #00af00; text-decoration-color: #00af00\">0</span> (0.00 B)\n",
              "</pre>\n"
            ],
            "text/plain": [
              "\u001b[1m Non-trainable params: \u001b[0m\u001b[38;5;34m0\u001b[0m (0.00 B)\n"
            ]
          },
          "metadata": {},
          "output_type": "display_data"
        }
      ],
      "source": [
        "# Parametri del modello -- da fine-tunare\n",
        "embed_dim = 64  # Dimensione degli embeddings\n",
        "num_heads = 2   # Numero di teste nel Multi-head attention\n",
        "ff_dim = 64     # Dimensione del feed-forward\n",
        "vocab_size = total_words\n",
        "\n",
        "# Creazione del modello\n",
        "generator = create_transformer_model(vocab_size, embed_dim, num_heads, ff_dim, max_sequence_len)\n",
        "\n",
        "# summary del modello\n",
        "generator.summary()"
      ]
    },
    {
      "cell_type": "code",
      "execution_count": 6,
      "metadata": {
        "colab": {
          "base_uri": "https://localhost:8080/"
        },
        "id": "2f7nGHoJWfvE",
        "outputId": "16e96c30-567b-46fb-d68d-4c92e0d210eb"
      },
      "outputs": [
        {
          "name": "stdout",
          "output_type": "stream",
          "text": [
            "Epoch 1/20\n",
            "\u001b[1m1285/1285\u001b[0m \u001b[32m━━━━━━━━━━━━━━━━━━━━\u001b[0m\u001b[37m\u001b[0m \u001b[1m6s\u001b[0m 3ms/step - accuracy: 0.5030 - loss: 1.3675\n",
            "Epoch 2/20\n",
            "\u001b[1m1285/1285\u001b[0m \u001b[32m━━━━━━━━━━━━━━━━━━━━\u001b[0m\u001b[37m\u001b[0m \u001b[1m4s\u001b[0m 3ms/step - accuracy: 0.5314 - loss: 1.2587\n",
            "Epoch 3/20\n",
            "\u001b[1m1285/1285\u001b[0m \u001b[32m━━━━━━━━━━━━━━━━━━━━\u001b[0m\u001b[37m\u001b[0m \u001b[1m4s\u001b[0m 3ms/step - accuracy: 0.5988 - loss: 1.0416\n",
            "Epoch 4/20\n",
            "\u001b[1m1285/1285\u001b[0m \u001b[32m━━━━━━━━━━━━━━━━━━━━\u001b[0m\u001b[37m\u001b[0m \u001b[1m4s\u001b[0m 3ms/step - accuracy: 0.6305 - loss: 0.9318\n",
            "Epoch 5/20\n",
            "\u001b[1m1285/1285\u001b[0m \u001b[32m━━━━━━━━━━━━━━━━━━━━\u001b[0m\u001b[37m\u001b[0m \u001b[1m5s\u001b[0m 4ms/step - accuracy: 0.6495 - loss: 0.8739\n",
            "Epoch 6/20\n",
            "\u001b[1m1285/1285\u001b[0m \u001b[32m━━━━━━━━━━━━━━━━━━━━\u001b[0m\u001b[37m\u001b[0m \u001b[1m9s\u001b[0m 7ms/step - accuracy: 0.6886 - loss: 0.7866\n",
            "Epoch 7/20\n",
            "\u001b[1m1285/1285\u001b[0m \u001b[32m━━━━━━━━━━━━━━━━━━━━\u001b[0m\u001b[37m\u001b[0m \u001b[1m4s\u001b[0m 3ms/step - accuracy: 0.6996 - loss: 0.7543\n",
            "Epoch 8/20\n",
            "\u001b[1m1285/1285\u001b[0m \u001b[32m━━━━━━━━━━━━━━━━━━━━\u001b[0m\u001b[37m\u001b[0m \u001b[1m4s\u001b[0m 3ms/step - accuracy: 0.7144 - loss: 0.7575\n",
            "Epoch 9/20\n",
            "\u001b[1m1285/1285\u001b[0m \u001b[32m━━━━━━━━━━━━━━━━━━━━\u001b[0m\u001b[37m\u001b[0m \u001b[1m4s\u001b[0m 3ms/step - accuracy: 0.7235 - loss: 0.6698\n",
            "Epoch 10/20\n",
            "\u001b[1m1285/1285\u001b[0m \u001b[32m━━━━━━━━━━━━━━━━━━━━\u001b[0m\u001b[37m\u001b[0m \u001b[1m4s\u001b[0m 3ms/step - accuracy: 0.7261 - loss: 0.6834\n",
            "Epoch 11/20\n",
            "\u001b[1m1285/1285\u001b[0m \u001b[32m━━━━━━━━━━━━━━━━━━━━\u001b[0m\u001b[37m\u001b[0m \u001b[1m4s\u001b[0m 3ms/step - accuracy: 0.7251 - loss: 0.6203\n",
            "Epoch 12/20\n",
            "\u001b[1m1285/1285\u001b[0m \u001b[32m━━━━━━━━━━━━━━━━━━━━\u001b[0m\u001b[37m\u001b[0m \u001b[1m4s\u001b[0m 3ms/step - accuracy: 0.7414 - loss: 0.6074\n",
            "Epoch 13/20\n",
            "\u001b[1m1285/1285\u001b[0m \u001b[32m━━━━━━━━━━━━━━━━━━━━\u001b[0m\u001b[37m\u001b[0m \u001b[1m4s\u001b[0m 3ms/step - accuracy: 0.7537 - loss: 0.5786\n",
            "Epoch 14/20\n",
            "\u001b[1m1285/1285\u001b[0m \u001b[32m━━━━━━━━━━━━━━━━━━━━\u001b[0m\u001b[37m\u001b[0m \u001b[1m4s\u001b[0m 3ms/step - accuracy: 0.7490 - loss: 0.5965\n",
            "Epoch 15/20\n",
            "\u001b[1m1285/1285\u001b[0m \u001b[32m━━━━━━━━━━━━━━━━━━━━\u001b[0m\u001b[37m\u001b[0m \u001b[1m4s\u001b[0m 3ms/step - accuracy: 0.7555 - loss: 0.5761\n",
            "Epoch 16/20\n",
            "\u001b[1m1285/1285\u001b[0m \u001b[32m━━━━━━━━━━━━━━━━━━━━\u001b[0m\u001b[37m\u001b[0m \u001b[1m4s\u001b[0m 3ms/step - accuracy: 0.7619 - loss: 0.5459\n",
            "Epoch 17/20\n",
            "\u001b[1m1285/1285\u001b[0m \u001b[32m━━━━━━━━━━━━━━━━━━━━\u001b[0m\u001b[37m\u001b[0m \u001b[1m4s\u001b[0m 3ms/step - accuracy: 0.7606 - loss: 0.5473\n",
            "Epoch 18/20\n",
            "\u001b[1m1285/1285\u001b[0m \u001b[32m━━━━━━━━━━━━━━━━━━━━\u001b[0m\u001b[37m\u001b[0m \u001b[1m4s\u001b[0m 3ms/step - accuracy: 0.7671 - loss: 0.5221\n",
            "Epoch 19/20\n",
            "\u001b[1m1285/1285\u001b[0m \u001b[32m━━━━━━━━━━━━━━━━━━━━\u001b[0m\u001b[37m\u001b[0m \u001b[1m4s\u001b[0m 3ms/step - accuracy: 0.7696 - loss: 0.5395\n",
            "Epoch 20/20\n",
            "\u001b[1m1285/1285\u001b[0m \u001b[32m━━━━━━━━━━━━━━━━━━━━\u001b[0m\u001b[37m\u001b[0m \u001b[1m4s\u001b[0m 3ms/step - accuracy: 0.7771 - loss: 0.5260\n"
          ]
        },
        {
          "data": {
            "text/plain": [
              "<keras.src.callbacks.history.History at 0x1fa5efc8820>"
            ]
          },
          "execution_count": 6,
          "metadata": {},
          "output_type": "execute_result"
        }
      ],
      "source": [
        "# train the transformer\n",
        "generator.fit(X, y, epochs=20, batch_size=2)"
      ]
    },
    {
      "cell_type": "markdown",
      "metadata": {
        "id": "LNe76llmHu51"
      },
      "source": [
        "# Generate"
      ]
    },
    {
      "cell_type": "code",
      "execution_count": 7,
      "metadata": {
        "colab": {
          "base_uri": "https://localhost:8080/"
        },
        "id": "gbb4mSYEMnre",
        "outputId": "3878bbc4-b7ff-416a-b592-f4b3b0442d9a"
      },
      "outputs": [
        {
          "name": "stdout",
          "output_type": "stream",
          "text": [
            "\u001b[1m1/1\u001b[0m \u001b[32m━━━━━━━━━━━━━━━━━━━━\u001b[0m\u001b[37m\u001b[0m \u001b[1m0s\u001b[0m 114ms/step\n",
            "\u001b[1m1/1\u001b[0m \u001b[32m━━━━━━━━━━━━━━━━━━━━\u001b[0m\u001b[37m\u001b[0m \u001b[1m0s\u001b[0m 15ms/step\n",
            "\u001b[1m1/1\u001b[0m \u001b[32m━━━━━━━━━━━━━━━━━━━━\u001b[0m\u001b[37m\u001b[0m \u001b[1m0s\u001b[0m 16ms/step\n",
            "\u001b[1m1/1\u001b[0m \u001b[32m━━━━━━━━━━━━━━━━━━━━\u001b[0m\u001b[37m\u001b[0m \u001b[1m0s\u001b[0m 13ms/step\n",
            "\u001b[1m1/1\u001b[0m \u001b[32m━━━━━━━━━━━━━━━━━━━━\u001b[0m\u001b[37m\u001b[0m \u001b[1m0s\u001b[0m 37ms/step\n",
            "Generated SMILES: CC(C)CC1=CC=c=c1o\n"
          ]
        }
      ],
      "source": [
        "def generate_text(seed_text, next_words, model, max_sequence_len):\n",
        "    for _ in range(next_words):\n",
        "        token_list = tokenizer.texts_to_sequences([seed_text])[0]\n",
        "        token_list = pad_sequences([token_list], maxlen=max_sequence_len-1, padding='pre')\n",
        "        predicted = np.argmax(model.predict(token_list), axis=-1)\n",
        "\n",
        "        output_char = ''\n",
        "        for char, index in tokenizer.word_index.items():\n",
        "            if index == predicted:\n",
        "                output_char = char\n",
        "                break\n",
        "        seed_text += output_char\n",
        "    return seed_text\n",
        "\n",
        "# Example of generating a SMILES string\n",
        "# \"CC(C)CC1=CC=    CC=C1\"\n",
        "# \"CC(C)CC1=CC=    CC=C1O\"\n",
        "# CC(C)ccc1=c=cc=c1o\n",
        "\n",
        "seed_text = \"CC(C)CC1=CC=\"\n",
        "next_words = 5\n",
        "generated_smiles = generate_text(seed_text, next_words, generator, max_sequence_len)\n",
        "print(\"Generated SMILES:\", generated_smiles)\n"
      ]
    }
  ],
  "metadata": {
    "colab": {
      "authorship_tag": "ABX9TyOYovWi+HfkD2xEZa/LOpf2",
      "collapsed_sections": [
        "ETsisHIZ9zvH",
        "qnWMJ1xr99Sn",
        "mp0fqJ7y-xQK"
      ],
      "provenance": []
    },
    "kernelspec": {
      "display_name": "Python 3",
      "name": "python3"
    },
    "language_info": {
      "codemirror_mode": {
        "name": "ipython",
        "version": 3
      },
      "file_extension": ".py",
      "mimetype": "text/x-python",
      "name": "python",
      "nbconvert_exporter": "python",
      "pygments_lexer": "ipython3",
      "version": "3.10.0"
    }
  },
  "nbformat": 4,
  "nbformat_minor": 0
}
